{
 "cells": [
  {
   "cell_type": "markdown",
   "metadata": {},
   "source": [
    "# Parse Log Data"
   ]
  },
  {
   "cell_type": "code",
   "execution_count": 59,
   "metadata": {},
   "outputs": [
    {
     "data": {
      "text/plain": [
       "933"
      ]
     },
     "execution_count": 59,
     "metadata": {},
     "output_type": "execute_result"
    }
   ],
   "source": [
    "with open('train.log') as f:\n",
    "    lines = f.readlines()\n",
    "len(lines)"
   ]
  },
  {
   "cell_type": "code",
   "execution_count": 62,
   "metadata": {},
   "outputs": [
    {
     "data": {
      "text/plain": [
       "600"
      ]
     },
     "execution_count": 62,
     "metadata": {},
     "output_type": "execute_result"
    }
   ],
   "source": [
    "epoch_data = [line[line.index('Epoch'):].strip() for line in lines if 'Epoch' in line]\n",
    "epoch_data = [{pair.split(': ')[0]: float(pair.split(': ')[1]) if pair.split(': ')[0] != 'Batch' else int(pair.split(': ')[1].split('/')[0]) for pair in epoch.split(', ')} for epoch in epoch_data]\n",
    "len(epoch_data)"
   ]
  },
  {
   "cell_type": "code",
   "execution_count": 63,
   "metadata": {},
   "outputs": [],
   "source": [
    "import pandas as pd"
   ]
  },
  {
   "cell_type": "code",
   "execution_count": 64,
   "metadata": {},
   "outputs": [
    {
     "data": {
      "text/html": [
       "<div>\n",
       "<style scoped>\n",
       "    .dataframe tbody tr th:only-of-type {\n",
       "        vertical-align: middle;\n",
       "    }\n",
       "\n",
       "    .dataframe tbody tr th {\n",
       "        vertical-align: top;\n",
       "    }\n",
       "\n",
       "    .dataframe thead th {\n",
       "        text-align: right;\n",
       "    }\n",
       "</style>\n",
       "<table border=\"1\" class=\"dataframe\">\n",
       "  <thead>\n",
       "    <tr style=\"text-align: right;\">\n",
       "      <th></th>\n",
       "      <th>Epoch</th>\n",
       "      <th>Time</th>\n",
       "      <th>Batch</th>\n",
       "      <th>Disc Loss</th>\n",
       "      <th>Accuracy</th>\n",
       "      <th>Gen Loss</th>\n",
       "      <th>MAE</th>\n",
       "      <th>Gen Sim Loss</th>\n",
       "      <th>GAN Loss</th>\n",
       "    </tr>\n",
       "  </thead>\n",
       "  <tbody>\n",
       "    <tr>\n",
       "      <th>0</th>\n",
       "      <td>1</td>\n",
       "      <td>29.620629</td>\n",
       "      <td>1</td>\n",
       "      <td>-0.234993</td>\n",
       "      <td>0.08125</td>\n",
       "      <td>0.001937</td>\n",
       "      <td>12.191066</td>\n",
       "      <td>0.990779</td>\n",
       "      <td>244.812103</td>\n",
       "    </tr>\n",
       "    <tr>\n",
       "      <th>1</th>\n",
       "      <td>1</td>\n",
       "      <td>9.526305</td>\n",
       "      <td>2</td>\n",
       "      <td>-0.355472</td>\n",
       "      <td>0.19375</td>\n",
       "      <td>-0.000086</td>\n",
       "      <td>13.662074</td>\n",
       "      <td>0.955827</td>\n",
       "      <td>274.197327</td>\n",
       "    </tr>\n",
       "    <tr>\n",
       "      <th>2</th>\n",
       "      <td>2</td>\n",
       "      <td>9.258209</td>\n",
       "      <td>1</td>\n",
       "      <td>-0.450001</td>\n",
       "      <td>0.24375</td>\n",
       "      <td>-0.003574</td>\n",
       "      <td>13.976500</td>\n",
       "      <td>0.890530</td>\n",
       "      <td>280.420502</td>\n",
       "    </tr>\n",
       "    <tr>\n",
       "      <th>3</th>\n",
       "      <td>2</td>\n",
       "      <td>9.233634</td>\n",
       "      <td>2</td>\n",
       "      <td>-0.559719</td>\n",
       "      <td>0.48125</td>\n",
       "      <td>-0.007685</td>\n",
       "      <td>12.705260</td>\n",
       "      <td>0.789554</td>\n",
       "      <td>254.894684</td>\n",
       "    </tr>\n",
       "    <tr>\n",
       "      <th>4</th>\n",
       "      <td>3</td>\n",
       "      <td>8.911965</td>\n",
       "      <td>1</td>\n",
       "      <td>-0.656311</td>\n",
       "      <td>0.57500</td>\n",
       "      <td>-0.012261</td>\n",
       "      <td>13.388491</td>\n",
       "      <td>0.834264</td>\n",
       "      <td>268.603943</td>\n",
       "    </tr>\n",
       "  </tbody>\n",
       "</table>\n",
       "</div>"
      ],
      "text/plain": [
       "   Epoch       Time  Batch  Disc Loss  Accuracy   Gen Loss        MAE  \\\n",
       "0      1  29.620629      1  -0.234993   0.08125   0.001937  12.191066   \n",
       "1      1   9.526305      2  -0.355472   0.19375  -0.000086  13.662074   \n",
       "2      2   9.258209      1  -0.450001   0.24375  -0.003574  13.976500   \n",
       "3      2   9.233634      2  -0.559719   0.48125  -0.007685  12.705260   \n",
       "4      3   8.911965      1  -0.656311   0.57500  -0.012261  13.388491   \n",
       "\n",
       "    Gen Sim Loss    GAN Loss  \n",
       "0       0.990779  244.812103  \n",
       "1       0.955827  274.197327  \n",
       "2       0.890530  280.420502  \n",
       "3       0.789554  254.894684  \n",
       "4       0.834264  268.603943  "
      ]
     },
     "execution_count": 64,
     "metadata": {},
     "output_type": "execute_result"
    }
   ],
   "source": [
    "stats = pd.DataFrame(epoch_data)\n",
    "stats['Epoch'] = stats['Epoch'].astype(int)\n",
    "stats.head()"
   ]
  },
  {
   "cell_type": "markdown",
   "metadata": {},
   "source": [
    "# Export"
   ]
  },
  {
   "cell_type": "code",
   "execution_count": 70,
   "metadata": {},
   "outputs": [],
   "source": [
    "stats.to_csv('training_progress.csv')"
   ]
  }
 ],
 "metadata": {
  "kernelspec": {
   "display_name": "Python 3",
   "language": "python",
   "name": "python3"
  },
  "language_info": {
   "codemirror_mode": {
    "name": "ipython",
    "version": 3
   },
   "file_extension": ".py",
   "mimetype": "text/x-python",
   "name": "python",
   "nbconvert_exporter": "python",
   "pygments_lexer": "ipython3",
   "version": "3.8.3"
  }
 },
 "nbformat": 4,
 "nbformat_minor": 4
}
