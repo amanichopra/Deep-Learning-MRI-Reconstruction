{
 "cells": [
  {
   "cell_type": "markdown",
   "metadata": {},
   "source": [
    "# Loading"
   ]
  },
  {
   "cell_type": "code",
   "execution_count": 1,
   "metadata": {},
   "outputs": [],
   "source": [
    "import numpy as np\n",
    "import glob\n",
    "import nibabel as nib\n",
    "import os\n",
    "import random\n",
    "import h5py\n",
    "import shutil\n",
    "from multiprocessing import Pool"
   ]
  },
  {
   "cell_type": "code",
   "execution_count": 5,
   "metadata": {},
   "outputs": [],
   "source": [
    "def load_micaii(path, num_files_to_load=float('inf'), n_zero_ratio = 0.1): # \n",
    "    data_list = data_list = glob.glob(nii_path + '*.nii.gz')[:num_files_to_load]\n",
    "    data = []\n",
    "    for file in data_list:\n",
    "        img = nib.load(file).get_fdata()\n",
    "        #img = img / np.max(img)\n",
    "        for vol in range(img.shape[3]):\n",
    "            for slc in range(img.shape[2]):\n",
    "                if np.count_nonzero(img[:, :, slc, vol]) / np.prod(img[:, :, slc, vol].shape) >= n_zero_ratio:\n",
    "                    data.append(img[:, :, slc, vol].reshape(img.shape[0], img.shape[1], 1))            \n",
    "    return np.array(data)\n",
    "    "
   ]
  },
  {
   "cell_type": "code",
   "execution_count": 6,
   "metadata": {},
   "outputs": [],
   "source": [
    "nii_path = '/Users/amanchopra/Documents/School/College/Fall 2021/CS 390ANP/Deep-Learning-MRI-Reconstruction/Data/canine-legs/training-images/'\n",
    "imgs = load_micaii(nii_path, num_files_to_load=3)"
   ]
  },
  {
   "cell_type": "markdown",
   "metadata": {},
   "source": [
    "# Undersampling K-Space"
   ]
  },
  {
   "cell_type": "code",
   "execution_count": 61,
   "metadata": {},
   "outputs": [
    {
     "data": {
      "text/plain": [
       "Text(0.5, 1.0, 'Mask for Undersampling')"
      ]
     },
     "execution_count": 61,
     "metadata": {},
     "output_type": "execute_result"
    },
    {
     "data": {
      "image/png": "[encoded data removed]",
      "text/plain": [
       "<Figure size 432x288 with 1 Axes>"
      ]
     },
     "metadata": {
      "needs_background": "light"
     },
     "output_type": "display_data"
    }
   ],
   "source": [
    "import pickle\n",
    "import matplotlib.pyplot as plt\n",
    "from sklearn.model_selection import train_test_split\n",
    "\n",
    "with open('/Users/amanchopra/Documents/School/College/Fall 2021/CS 390ANP/Deep-Learning-MRI-Reconstruction/Data/mask.pickle', 'rb') as f:\n",
    "    mask = pickle.load(f)\n",
    "\n",
    "plt.imshow(mask, cmap='gray')\n",
    "plt.title('Mask for Undersampling')"
   ]
  },
  {
   "cell_type": "code",
   "execution_count": 88,
   "metadata": {},
   "outputs": [],
   "source": [
    "def unsample_data(data, mask, accelaration_factor=5):\n",
    "    uns_data = []\n",
    "    for i in range(data.shape[0]):\n",
    "        fourier = np.fft.fft2(data[i,:,:])\n",
    "        cen_fourier  = np.fft.fftshift(fourier)\n",
    "        subsam_fourier = np.multiply(cen_fourier,mask) # undersampling in k-space\n",
    "        uncen_fourier = np.fft.ifftshift(subsam_fourier)\n",
    "        zro_image = np.fft.ifft2(uncen_fourier) # zero-filled reconstruction\n",
    "        uns_data.append(zro_image)        \n",
    "    return np.array(uns_data)\n",
    "\n",
    "def unsample_data_add_noise(data, mask, noise_ratio, accelaration_factor=5):\n",
    "    fft_data = []\n",
    "    uns_data = []\n",
    "    for i in range(data.shape[0]):\n",
    "        fourier = np.fft.fft2(data[i,:,:])\n",
    "        cen_fourier  = np.fft.fftshift(fourier)\n",
    "        fft_data.append(cen_fourier)\n",
    "    fft_data = np.array(fft_data)\n",
    "    fft_std = np.std(fft_data)\n",
    "    \n",
    "    nstd = (noise_ratio*fft_std)/np.sqrt(2)\n",
    "    insh = (fft_data.shape[1],fft_data.shape[2])\n",
    "    \n",
    "    for i in range(fft_data.shape[0]):    \n",
    "        fft_noise=fft_data[i,:,:]+np.random.normal(0,nstd,insh)+1j*np.random.normal(0,nstd,insh) #adding noise\n",
    "        subsam_fourier = np.multiply(fft_noise,mask) # undersampling in k-space\n",
    "        uncen_fourier = np.fft.ifftshift(subsam_fourier)\n",
    "        zro_image = np.fft.ifft2(uncen_fourier) # zero-filled reconstruction\n",
    "        uns_data.append(zro_image) \n",
    "        \n",
    "    return np.array(uns_data)"
   ]
  },
  {
   "cell_type": "code",
   "execution_count": 101,
   "metadata": {},
   "outputs": [
    {
     "data": {
      "text/plain": [
       "(15, 256, 256, 1)"
      ]
     },
     "execution_count": 101,
     "metadata": {},
     "output_type": "execute_result"
    }
   ],
   "source": [
    "num_imgs_uns = 15\n",
    "X1, X2 = train_test_split(imgs[:num_imgs_uns, :, :, 0])\n",
    "X2, X3, X4, X5 = np.array_split(X2, 4)\n",
    "\n",
    "uns_imgs_1 = unsample_data(X1, mask)\n",
    "uns_imgs_2 = unsample_data_add_noise(X2, mask, 0.1)  #8100:8400    #10%noise-overlapping\n",
    "uns_imgs_3 = unsample_data_add_noise(X3, mask, 0.2)  #8400:8700    #20%noise-overlapping\n",
    "uns_imgs_4 = unsample_data_add_noise(X4, mask, 0.1) #8700:10600   #10%noise-nonoverlapping\n",
    "uns_imgs_5 = unsample_data_add_noise(X5, mask, 0.2)  #10600:12500  #20%noise-nonoverlapping\n",
    "\n",
    "uns_imgs_final = np.concatenate([uns_imgs_1, uns_imgs_2, uns_imgs_3, uns_imgs_4, uns_imgs_5])\n",
    "uns_imgs_final = uns_imgs_final.reshape((uns_imgs_final.shape[0], uns_imgs_final.shape[1], uns_imgs_final.shape[2], 1))\n",
    "uns_imgs_final.shape"
   ]
  }
 ],
 "metadata": {
  "kernelspec": {
   "display_name": "Python 3",
   "language": "python",
   "name": "python3"
  },
  "language_info": {
   "codemirror_mode": {
    "name": "ipython",
    "version": 3
   },
   "file_extension": ".py",
   "mimetype": "text/x-python",
   "name": "python",
   "nbconvert_exporter": "python",
   "pygments_lexer": "ipython3",
   "version": "3.8.3"
  }
 },
 "nbformat": 4,
 "nbformat_minor": 4
}
